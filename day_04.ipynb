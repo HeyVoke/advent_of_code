{
 "cells": [
  {
   "cell_type": "code",
   "execution_count": 2,
   "metadata": {},
   "outputs": [],
   "source": [
    "import re\n",
    "import numpy as np"
   ]
  },
  {
   "cell_type": "code",
   "execution_count": 46,
   "metadata": {},
   "outputs": [],
   "source": [
    "# open the txt file and strip newline\n",
    "file = open('input_data/day_04_input.txt') \n",
    "arr = [line.strip() for line in file.readlines()]\n",
    "file.close()"
   ]
  },
  {
   "cell_type": "code",
   "execution_count": 30,
   "metadata": {},
   "outputs": [
    {
     "data": {
      "text/plain": [
       "['Card 1: 41 48 83 86 17 | 83 86  6 31 17  9 48 53',\n",
       " 'Card 2: 13 32 20 16 61 | 61 30 68 82 17 32 24 19',\n",
       " 'Card 3:  1 21 53 59 44 | 69 82 63 72 16 21 14  1',\n",
       " 'Card 4: 41 92 73 84 69 | 59 84 76 51 58  5 54 83',\n",
       " 'Card 5: 87 83 26 28 32 | 88 30 70 12 93 22 82 36',\n",
       " 'Card 6: 31 18 13 56 72 | 74 77 10 23 35 67 36 11']"
      ]
     },
     "execution_count": 30,
     "metadata": {},
     "output_type": "execute_result"
    }
   ],
   "source": [
    "# open the txt file (practise data)\n",
    "file = open('input_data/practise.txt') \n",
    "arr = [line.strip() for line in file.readlines()]\n",
    "file.close()\n",
    "arr"
   ]
  },
  {
   "cell_type": "code",
   "execution_count": 38,
   "metadata": {},
   "outputs": [
    {
     "data": {
      "text/plain": [
       "13"
      ]
     },
     "execution_count": 38,
     "metadata": {},
     "output_type": "execute_result"
    }
   ],
   "source": [
    "total_points = 0\n",
    "\n",
    "# for card in arr:\n",
    "#     nums = card.split(': ')[1]\n",
    "#     winning_numbers = [int(x) for x in nums.split('|')[0].strip().split(' ') if x != \"\"]\n",
    "#     numbers_you_have = [int(x) for x in nums.split('|')[1].strip().split(' ') if x != \"\"]\n",
    "\n",
    "#     point_idx = -1\n",
    "#     for num in numbers_you_have:\n",
    "#         if num in winning_numbers:\n",
    "#             point_idx += 1\n",
    "        \n",
    "#     if point_idx == -1:\n",
    "#         card_points = 0\n",
    "#     else:\n",
    "#         card_points = 2 ** point_idx\n",
    "\n",
    "#     total_points += card_points\n",
    "\n",
    "def get_point_count(card):\n",
    "    nums = card.split(': ')[1]\n",
    "    winning_numbers = [int(x) for x in nums.split('|')[0].strip().split(' ') if x != \"\"]\n",
    "    numbers_you_have = [int(x) for x in nums.split('|')[1].strip().split(' ') if x != \"\"]\n",
    "\n",
    "    point_idx = -1\n",
    "    for num in numbers_you_have:\n",
    "        if num in winning_numbers:\n",
    "            point_idx += 1\n",
    "        \n",
    "    if point_idx == -1:\n",
    "        card_points = 0\n",
    "    else:\n",
    "        card_points = 2 ** point_idx\n",
    "    \n",
    "    return card_points\n",
    "\n",
    "for card in arr:\n",
    "    total_points += get_point_count(card)\n",
    "\n",
    "total_points"
   ]
  },
  {
   "cell_type": "code",
   "execution_count": 47,
   "metadata": {},
   "outputs": [
    {
     "data": {
      "text/plain": [
       "19499881"
      ]
     },
     "execution_count": 47,
     "metadata": {},
     "output_type": "execute_result"
    }
   ],
   "source": [
    "card_count = 0\n",
    "counter_arr = np.ones(len(arr) + 1)\n",
    "\n",
    "for card in arr:\n",
    "    \n",
    "    card_num = int(card.split(':')[0][5:])\n",
    "    copy_count = counter_arr[card_num]\n",
    "    \n",
    "    nums = card.split(': ')[1]\n",
    "    winning_numbers = [int(x) for x in nums.split('|')[0].strip().split(' ') if x != \"\"]\n",
    "    numbers_you_have = [int(x) for x in nums.split('|')[1].strip().split(' ') if x != \"\"]\n",
    "\n",
    "    match_count = 0\n",
    "    for num in numbers_you_have:\n",
    "        if num in winning_numbers:\n",
    "            match_count += 1\n",
    "        \n",
    "    for i in range(1, match_count + 1):\n",
    "        counter_arr[card_num + i] += copy_count\n",
    "\n",
    "int(np.sum(counter_arr) - 1)"
   ]
  }
 ],
 "metadata": {
  "kernelspec": {
   "display_name": "cambridge-spark",
   "language": "python",
   "name": "python3"
  },
  "language_info": {
   "codemirror_mode": {
    "name": "ipython",
    "version": 3
   },
   "file_extension": ".py",
   "mimetype": "text/x-python",
   "name": "python",
   "nbconvert_exporter": "python",
   "pygments_lexer": "ipython3",
   "version": "3.10.13"
  }
 },
 "nbformat": 4,
 "nbformat_minor": 2
}
