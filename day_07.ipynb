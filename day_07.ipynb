{
 "cells": [
  {
   "cell_type": "code",
   "execution_count": 2,
   "metadata": {},
   "outputs": [],
   "source": [
    "import re\n",
    "import numpy as np"
   ]
  },
  {
   "cell_type": "code",
   "execution_count": null,
   "metadata": {},
   "outputs": [],
   "source": [
    "# # open the txt file and strip newline\n",
    "# file = open('input_data/day_07_input.txt') \n",
    "# arr = [line.strip() for line in file.readlines()]\n",
    "# file.close()"
   ]
  },
  {
   "cell_type": "code",
   "execution_count": 1,
   "metadata": {},
   "outputs": [
    {
     "data": {
      "text/plain": [
       "['32T3K 765', 'T55J5 684', 'KK677 28', 'KTJJT 220', 'QQQJA 483']"
      ]
     },
     "execution_count": 1,
     "metadata": {},
     "output_type": "execute_result"
    }
   ],
   "source": [
    "# open the txt file (practise data)\n",
    "file = open('input_data/practise.txt') \n",
    "arr = [line.strip() for line in file.readlines()]\n",
    "file.close()\n",
    "arr"
   ]
  },
  {
   "cell_type": "code",
   "execution_count": 7,
   "metadata": {},
   "outputs": [
    {
     "name": "stdout",
     "output_type": "stream",
     "text": [
      "{'3': 2, '2': 1, 'T': 1, 'K': 1}\n",
      "{'T': 1, '5': 3, 'J': 1}\n",
      "{'K': 2, '6': 1, '7': 2}\n",
      "{'K': 1, 'T': 2, 'J': 2}\n",
      "{'Q': 3, 'J': 1, 'A': 1}\n"
     ]
    }
   ],
   "source": [
    "new_arr = [x.split() for x in arr]\n",
    "\n",
    "for (hand, points) in new_arr:\n",
    "    char_counts = {}\n",
    "    for char in hand:\n",
    "        char_counts[char] = char_counts.get(char, 0) + 1\n",
    "    \n",
    "    print(char_counts)"
   ]
  }
 ],
 "metadata": {
  "kernelspec": {
   "display_name": "cambridge-spark",
   "language": "python",
   "name": "python3"
  },
  "language_info": {
   "codemirror_mode": {
    "name": "ipython",
    "version": 3
   },
   "file_extension": ".py",
   "mimetype": "text/x-python",
   "name": "python",
   "nbconvert_exporter": "python",
   "pygments_lexer": "ipython3",
   "version": "3.10.13"
  }
 },
 "nbformat": 4,
 "nbformat_minor": 2
}
