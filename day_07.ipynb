{
 "cells": [
  {
   "cell_type": "code",
   "execution_count": 2,
   "metadata": {},
   "outputs": [],
   "source": [
    "import re\n",
    "import numpy as np"
   ]
  },
  {
   "cell_type": "code",
   "execution_count": 40,
   "metadata": {},
   "outputs": [],
   "source": [
    "# open the txt file and strip newline\n",
    "file = open('input_data/day_07_input.txt') \n",
    "arr = [line.strip() for line in file.readlines()]\n",
    "file.close()"
   ]
  },
  {
   "cell_type": "code",
   "execution_count": 36,
   "metadata": {},
   "outputs": [
    {
     "data": {
      "text/plain": [
       "['32T3K 765', 'T55J5 684', 'KK677 28', 'KTJJT 220', 'QQQJA 483']"
      ]
     },
     "execution_count": 36,
     "metadata": {},
     "output_type": "execute_result"
    }
   ],
   "source": [
    "# open the txt file (practise data)\n",
    "file = open('input_data/practise.txt') \n",
    "arr = [line.strip() for line in file.readlines()]\n",
    "file.close()\n",
    "arr"
   ]
  },
  {
   "cell_type": "code",
   "execution_count": 41,
   "metadata": {},
   "outputs": [
    {
     "data": {
      "text/plain": [
       "246424613"
      ]
     },
     "execution_count": 41,
     "metadata": {},
     "output_type": "execute_result"
    }
   ],
   "source": [
    "new_arr = [x.split() for x in arr]\n",
    "\n",
    "hand_strength_map = {\n",
    "    (5,): 6,\n",
    "    (4, 1): 5, \n",
    "    (3, 2): 4,\n",
    "    (3, 1, 1): 3,\n",
    "    (2, 2, 1): 2,\n",
    "    (2, 1, 1, 1): 1,\n",
    "    (1, 1, 1, 1, 1): 0\n",
    "}\n",
    "\n",
    "letter_points_map = {\n",
    "    'A': 14,\n",
    "    'K': 13,\n",
    "    'Q': 12,\n",
    "    'J': 11,\n",
    "    'T': 10\n",
    "}\n",
    "\n",
    "\n",
    "spread_hands = []\n",
    "\n",
    "for (hand, points) in new_arr:\n",
    "    char_counts = {}\n",
    "    char_val = ''\n",
    "    for char in hand:\n",
    "        char_counts[char] = char_counts.get(char, 0) + 1\n",
    "    hand_strength = hand_strength_map[tuple(sorted(list(char_counts.values()), reverse= True))]\n",
    "    spread = list(hand)\n",
    "    for i in range(len(spread)):\n",
    "        if spread[i] in letter_points_map:\n",
    "            spread[i] = letter_points_map[spread[i]]\n",
    "        else:\n",
    "            spread[i] = int(spread[i])\n",
    "\n",
    "    spread.insert(0, hand_strength)\n",
    "    spread.append(hand)\n",
    "    spread.append(int(points))\n",
    "    spread_hands.append(spread)\n",
    "\n",
    "sorted_list = sorted(spread_hands, key=lambda x: (x[0], x[1], x[2], x[3], x[4], x[5], x[6]))\n",
    "\n",
    "solution = 0\n",
    "for i in range(len(sorted_list)):\n",
    "    solution += sorted_list[i][-1] * (i + 1)\n",
    "\n",
    "solution\n"
   ]
  },
  {
   "cell_type": "code",
   "execution_count": null,
   "metadata": {},
   "outputs": [
    {
     "data": {
      "text/plain": [
       "246424613"
      ]
     },
     "metadata": {},
     "output_type": "display_data"
    }
   ],
   "source": [
    "new_arr = [x.split() for x in arr]\n",
    "\n",
    "hand_strength_map = {\n",
    "    (5,): 6,\n",
    "    (4, 1): 5, \n",
    "    (3, 2): 4,\n",
    "    (3, 1, 1): 3,\n",
    "    (2, 2, 1): 2,\n",
    "    (2, 1, 1, 1): 1,\n",
    "    (1, 1, 1, 1, 1): 0\n",
    "}\n",
    "\n",
    "letter_points_map = {\n",
    "    'A': 14,\n",
    "    'K': 13,\n",
    "    'Q': 12,\n",
    "    'J': 1,\n",
    "    'T': 10\n",
    "}\n",
    "\n",
    "\n",
    "spread_hands = []\n",
    "\n",
    "for (hand, points) in new_arr:\n",
    "    char_counts = {}\n",
    "    char_val = ''\n",
    "    for char in hand:\n",
    "        char_counts[char] = char_counts.get(char, 0) + 1\n",
    "    hand_strength = hand_strength_map[tuple(sorted(list(char_counts.values()), reverse= True))]\n",
    "    spread = list(hand)\n",
    "    for i in range(len(spread)):\n",
    "        if spread[i] in letter_points_map:\n",
    "            spread[i] = letter_points_map[spread[i]]\n",
    "        else:\n",
    "            spread[i] = int(spread[i])\n",
    "\n",
    "    spread.insert(0, hand_strength)\n",
    "    spread.append(hand)\n",
    "    spread.append(int(points))\n",
    "    spread_hands.append(spread)\n",
    "\n",
    "sorted_list = sorted(spread_hands, key=lambda x: (x[0], x[1], x[2], x[3], x[4], x[5], x[6]))\n",
    "\n",
    "solution = 0\n",
    "for i in range(len(sorted_list)):\n",
    "    solution += sorted_list[i][-1] * (i + 1)\n",
    "\n",
    "solution\n"
   ]
  }
 ],
 "metadata": {
  "kernelspec": {
   "display_name": "cambridge-spark",
   "language": "python",
   "name": "python3"
  },
  "language_info": {
   "codemirror_mode": {
    "name": "ipython",
    "version": 3
   },
   "file_extension": ".py",
   "mimetype": "text/x-python",
   "name": "python",
   "nbconvert_exporter": "python",
   "pygments_lexer": "ipython3",
   "version": "3.10.13"
  }
 },
 "nbformat": 4,
 "nbformat_minor": 2
}
