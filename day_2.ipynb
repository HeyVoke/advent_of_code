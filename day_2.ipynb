{
 "cells": [
  {
   "cell_type": "code",
   "execution_count": 71,
   "metadata": {},
   "outputs": [],
   "source": [
    "import numpy as np\n",
    "import pandas as pd\n",
    "import re"
   ]
  },
  {
   "cell_type": "code",
   "execution_count": 72,
   "metadata": {},
   "outputs": [],
   "source": [
    "# open the txt file\n",
    "file = open('input_data/day_2_input.txt') \n",
    "arr = file.readlines()\n",
    "file.close()"
   ]
  },
  {
   "cell_type": "code",
   "execution_count": 73,
   "metadata": {},
   "outputs": [],
   "source": [
    "# arr = [\n",
    "#     'Game 1: 3 blue, 4 red; 1 red, 2 green, 6 blue; 2 green',\n",
    "#     'Game 2: 1 blue, 2 green; 3 green, 4 blue, 1 red; 1 green, 1 blue',\n",
    "#     'Game 3: 8 green, 6 blue, 20 red; 5 blue, 4 red, 13 green; 5 green, 1 red',\n",
    "#     'Game 4: 1 green, 3 red, 6 blue; 3 green, 6 red; 3 green, 15 blue, 14 red',\n",
    "#     'Game 5: 6 red, 1 blue, 3 green; 2 blue, 1 red, 2 green'\n",
    "# ]"
   ]
  },
  {
   "cell_type": "code",
   "execution_count": 74,
   "metadata": {},
   "outputs": [],
   "source": [
    "max_red = 12\n",
    "max_green = 13\n",
    "max_blue = 14"
   ]
  },
  {
   "cell_type": "code",
   "execution_count": 75,
   "metadata": {},
   "outputs": [],
   "source": [
    "impossible_list = set()"
   ]
  },
  {
   "cell_type": "code",
   "execution_count": 76,
   "metadata": {},
   "outputs": [
    {
     "data": {
      "text/plain": [
       "2331"
      ]
     },
     "execution_count": 76,
     "metadata": {},
     "output_type": "execute_result"
    }
   ],
   "source": [
    "for txt in arr:\n",
    "    game = int(txt.split(':')[0][5:])\n",
    "    rounds = txt.split(':')[1].split(';')\n",
    "    for round in rounds:\n",
    "        cubes = round.split(',')\n",
    "        for cube_set in cubes:\n",
    "            count = int(re.search(r'\\d+', cube_set).group())\n",
    "\n",
    "            if ('red' in cube_set) and (count > max_red):\n",
    "                impossible_list.add(game)\n",
    "            elif ('green' in cube_set) and (count > max_green):\n",
    "                impossible_list.add(game)\n",
    "            elif ('blue' in cube_set) and (count > max_blue):\n",
    "                impossible_list.add(game)\n",
    "\n",
    "\n",
    "impossible_list\n",
    "possible_list = set(range(1,len(arr) + 1,1)) - impossible_list\n",
    "sum(possible_list)\n",
    "            "
   ]
  },
  {
   "cell_type": "code",
   "execution_count": 77,
   "metadata": {},
   "outputs": [],
   "source": [
    "# arr = [\n",
    "#     'Game 1: 3 blue, 4 red; 1 red, 2 green, 6 blue; 2 green',\n",
    "#     'Game 2: 1 blue, 2 green; 3 green, 4 blue, 1 red; 1 green, 1 blue',\n",
    "#     'Game 3: 8 green, 6 blue, 20 red; 5 blue, 4 red, 13 green; 5 green, 1 red',\n",
    "#     'Game 4: 1 green, 3 red, 6 blue; 3 green, 6 red; 3 green, 15 blue, 14 red',\n",
    "#     'Game 5: 6 red, 1 blue, 3 green; 2 blue, 1 red, 2 green'\n",
    "# # ]"
   ]
  },
  {
   "cell_type": "code",
   "execution_count": 78,
   "metadata": {},
   "outputs": [
    {
     "data": {
      "text/plain": [
       "71585"
      ]
     },
     "execution_count": 78,
     "metadata": {},
     "output_type": "execute_result"
    }
   ],
   "source": [
    "# part 2\n",
    "power_list = []\n",
    "for txt in arr:\n",
    "    game = int(txt.split(':')[0][5:])\n",
    "    rounds = txt.split(':')[1].split(';')\n",
    "    min_red = 0\n",
    "    min_green = 0\n",
    "    min_blue = 0\n",
    "\n",
    "    for round in rounds:\n",
    "        cubes = round.split(',')\n",
    "        for cube_set in cubes:\n",
    "            count = int(re.search(r'\\d+', cube_set).group())\n",
    "            if ('red' in cube_set) and (count > min_red):\n",
    "                min_red = count\n",
    "            elif ('green' in cube_set) and (count > min_green):\n",
    "                min_green = count\n",
    "            elif ('blue' in cube_set) and (count > min_blue):\n",
    "                min_blue = count\n",
    "    \n",
    "    power = min_red * min_green * min_blue\n",
    "    power_list.append(power)\n",
    "\n",
    "sum(power_list)"
   ]
  }
 ],
 "metadata": {
  "kernelspec": {
   "display_name": "cambridge-spark",
   "language": "python",
   "name": "python3"
  },
  "language_info": {
   "codemirror_mode": {
    "name": "ipython",
    "version": 3
   },
   "file_extension": ".py",
   "mimetype": "text/x-python",
   "name": "python",
   "nbconvert_exporter": "python",
   "pygments_lexer": "ipython3",
   "version": "3.10.13"
  }
 },
 "nbformat": 4,
 "nbformat_minor": 2
}
