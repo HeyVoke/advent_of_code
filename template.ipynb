{
 "cells": [
  {
   "cell_type": "code",
   "execution_count": null,
   "metadata": {},
   "outputs": [],
   "source": [
    "import re\n",
    "import numpy as np"
   ]
  },
  {
   "cell_type": "code",
   "execution_count": null,
   "metadata": {},
   "outputs": [],
   "source": [
    "# open the txt file and strip newline\n",
    "file = open('input_data/day_3_input.txt') \n",
    "arr = [line.strip() for line in file.readlines()]\n",
    "file.close()"
   ]
  },
  {
   "cell_type": "code",
   "execution_count": null,
   "metadata": {},
   "outputs": [],
   "source": [
    "# # open the txt file (practise data)\n",
    "# file = open('input_data/practise.txt') \n",
    "# arr = [line.strip() for line in file.readlines()]\n",
    "# file.close()\n",
    "# arr"
   ]
  },
  {
   "cell_type": "code",
   "execution_count": 13,
   "metadata": {},
   "outputs": [
    {
     "name": "stdout",
     "output_type": "stream",
     "text": [
      "['cake', 'apples', 'strings']\n",
      "['cakeZ', 'apples', 'stringsZ']\n",
      "['cake', 'apples', 'strings']\n",
      "['cakeZ', 'applesZ', 'stringsZ']\n"
     ]
    }
   ],
   "source": [
    "\n",
    "\n",
    "dict = {\n",
    "    0: ['cake', 'apples', 'strings'],\n",
    "    1: ['cakeZ', 'apples', 'stringsZ'],\n",
    "    2: ['cake', 'apples', 'strings'],\n",
    "    3: ['cakeZ', 'applesZ', 'stringsZ'],\n",
    "    4: ['cake', 'applesZ', 'stringsZ']\n",
    "}\n",
    "\n",
    "# positions = ['cake', 'apples', 'strings']\n",
    "# print(any(not s.endswith('Z') for s in positions))\n",
    "# positions = ['cakeZ', 'applesZ', 'stringsZ']\n",
    "# print(any(not s.endswith('Z') for s in positions))\n",
    "\n",
    "i = 0\n",
    "positions = dict[0]\n",
    "while any(not s.endswith('Z') for s in positions):\n",
    "    positions = dict[i]\n",
    "    i+=1\n",
    "    print(positions)"
   ]
  }
 ],
 "metadata": {
  "kernelspec": {
   "display_name": "cambridge-spark",
   "language": "python",
   "name": "python3"
  },
  "language_info": {
   "codemirror_mode": {
    "name": "ipython",
    "version": 3
   },
   "file_extension": ".py",
   "mimetype": "text/x-python",
   "name": "python",
   "nbconvert_exporter": "python",
   "pygments_lexer": "ipython3",
   "version": "3.10.13"
  }
 },
 "nbformat": 4,
 "nbformat_minor": 2
}
