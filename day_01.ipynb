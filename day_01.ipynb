{
 "cells": [
  {
   "cell_type": "code",
   "execution_count": 56,
   "metadata": {},
   "outputs": [],
   "source": [
    "#import modules\n",
    "import re"
   ]
  },
  {
   "cell_type": "code",
   "execution_count": 2,
   "metadata": {},
   "outputs": [],
   "source": [
    "# open the txt file\n",
    "file = open('input_data/day_1_input.txt') \n",
    "arr = file.readlines()\n",
    "file.close()"
   ]
  },
  {
   "cell_type": "code",
   "execution_count": 58,
   "metadata": {},
   "outputs": [
    {
     "data": {
      "text/plain": [
       "55208"
      ]
     },
     "execution_count": 58,
     "metadata": {},
     "output_type": "execute_result"
    }
   ],
   "source": [
    "# finding part 1 solution\n",
    "\n",
    "codes = []\n",
    "\n",
    "for str in arr:\n",
    "    match = re.findall(r'\\d', str)\n",
    "    num = int(match[0] + match[-1])\n",
    "    codes.append(num)\n",
    "\n",
    "sum(codes)"
   ]
  },
  {
   "cell_type": "code",
   "execution_count": 59,
   "metadata": {},
   "outputs": [
    {
     "data": {
      "text/plain": [
       "54578"
      ]
     },
     "execution_count": 59,
     "metadata": {},
     "output_type": "execute_result"
    }
   ],
   "source": [
    "# finding part 2 solution\n",
    "spelling_to_number = {\n",
    "    'one': '1',\n",
    "    'two': '2',\n",
    "    'three': '3',\n",
    "    'four': '4',\n",
    "    'five': '5',\n",
    "    'six': '6',\n",
    "    'seven': '7',\n",
    "    'eight': '8',\n",
    "    'nine': '9'\n",
    "}\n",
    "\n",
    "reversed_english_to_digits = {\n",
    "    'eno': '1',\n",
    "    'owt': '2',\n",
    "    'eerht': '3',\n",
    "    'ruof': '4',\n",
    "    'evif': '5',\n",
    "    'xis': '6',\n",
    "    'neves': '7',\n",
    "    'thgie': '8',\n",
    "    'enin': '9'\n",
    "}\n",
    "\n",
    "codes_2 = []\n",
    "\n",
    "forward_pattern = re.compile('|'.join(re.escape(word) for word in spelling_to_number.keys()) + '|\\d')\n",
    "reverse_pattern = re.compile('|'.join(re.escape(word) for word in reversed_english_to_digits.keys()) + '|\\d')\n",
    "\n",
    "for str in arr:\n",
    "    match = [forward_pattern.search(str).group(), reverse_pattern.search(str[::-1]).group()]\n",
    "\n",
    "    num = ''\n",
    "\n",
    "    for i in [0, 1]:\n",
    "        if match[i].isdigit():\n",
    "            num += match[i]\n",
    "        elif i == 0:\n",
    "            num += spelling_to_number[match[i]]\n",
    "        else:\n",
    "            num += reversed_english_to_digits[match[i]]\n",
    "\n",
    "    num = int(num)\n",
    "    codes_2.append(num)\n",
    "\n",
    "sum(codes_2)"
   ]
  }
 ],
 "metadata": {
  "kernelspec": {
   "display_name": "cambridge-spark",
   "language": "python",
   "name": "python3"
  },
  "language_info": {
   "codemirror_mode": {
    "name": "ipython",
    "version": 3
   },
   "file_extension": ".py",
   "mimetype": "text/x-python",
   "name": "python",
   "nbconvert_exporter": "python",
   "pygments_lexer": "ipython3",
   "version": "3.10.13"
  }
 },
 "nbformat": 4,
 "nbformat_minor": 2
}
