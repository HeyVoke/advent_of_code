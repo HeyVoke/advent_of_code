{
 "cells": [
  {
   "cell_type": "code",
   "execution_count": 84,
   "metadata": {},
   "outputs": [],
   "source": [
    "import re\n",
    "import numpy as np\n",
    "from collections import defaultdict"
   ]
  },
  {
   "cell_type": "code",
   "execution_count": 85,
   "metadata": {},
   "outputs": [],
   "source": [
    "# open the txt file and strip newline\n",
    "file = open('input_data/day_3_input.txt') \n",
    "arr = [line.strip() for line in file.readlines()]\n",
    "file.close()"
   ]
  },
  {
   "cell_type": "code",
   "execution_count": 86,
   "metadata": {},
   "outputs": [],
   "source": [
    "# # open the txt file (practise data)\n",
    "# file = open('input_data/practise.txt') \n",
    "# arr = [line.strip() for line in file.readlines()]\n",
    "# file.close()\n",
    "# arr"
   ]
  },
  {
   "cell_type": "code",
   "execution_count": 87,
   "metadata": {},
   "outputs": [],
   "source": [
    "# finding the locations of all of the punctuation\n",
    "locations = []\n",
    "punct_pattern = re.compile(r'[^\\w\\s.]')\n",
    "\n",
    "for r in range(len(arr)):\n",
    "    text = arr[r]\n",
    "    punct_indicies = [match.start() for match in punct_pattern.finditer(text)]\n",
    "    row_locations = list(zip([r] * len(punct_indicies), punct_indicies))\n",
    "    locations += row_locations"
   ]
  },
  {
   "cell_type": "code",
   "execution_count": 88,
   "metadata": {},
   "outputs": [],
   "source": [
    "# finding the locations in the adjacent zones\n",
    "\n",
    "adjacent_zones = []\n",
    "\n",
    "directions = [\n",
    "    (-1, -1), (-1, 0), (-1, 1),\n",
    "    (0, -1),           (0, 1),\n",
    "    (1, -1), (1, 0), (1, 1)\n",
    "    ]\n",
    "\n",
    "for (r, c) in locations:\n",
    "    for (dr, dc) in directions:\n",
    "        loc = (r + dr, c + dc)\n",
    "        adjacent_zones.append(loc)\n"
   ]
  },
  {
   "cell_type": "code",
   "execution_count": 89,
   "metadata": {},
   "outputs": [],
   "source": [
    "zone_dict = defaultdict(list)\n",
    "for r, c in adjacent_zones:\n",
    "    zone_dict[r].append((r, c))"
   ]
  },
  {
   "cell_type": "code",
   "execution_count": 90,
   "metadata": {},
   "outputs": [],
   "source": [
    "# finding locations of numbers and putting them in a dict\n",
    "\n",
    "num_pattern = re.compile(r'\\d+')\n",
    "loc_dict = {}\n",
    "for r in range(len(arr)):\n",
    "    text = arr[r]\n",
    "    num_indicies = [match.span() for match in num_pattern.finditer(text)]\n",
    "    # row_locations = list(zip([r] * len(punct_indicies), punct_indicies))\n",
    "    # locations += row_locations\n",
    "    if num_indicies:\n",
    "        loc_dict[r] = num_indicies"
   ]
  },
  {
   "cell_type": "code",
   "execution_count": 93,
   "metadata": {},
   "outputs": [
    {
     "data": {
      "text/plain": [
       "521601"
      ]
     },
     "execution_count": 93,
     "metadata": {},
     "output_type": "execute_result"
    }
   ],
   "source": [
    "# iterating through dictionary\n",
    "schematic_sum = 0\n",
    "\n",
    "for r, locs in loc_dict.items():\n",
    "    numbers = [match.group() for match in num_pattern.finditer(arr[r])]\n",
    "\n",
    "    for i in range(len(locs)):\n",
    "        num = int(numbers[i])\n",
    "        num_locs = list(zip([r] * len(range(*locs[i])), range(*locs[i])))\n",
    "        \n",
    "        for loc in num_locs:\n",
    "            if loc in zone_dict[r]:\n",
    "                schematic_sum += num\n",
    "                break\n",
    "\n",
    "schematic_sum"
   ]
  }
 ],
 "metadata": {
  "kernelspec": {
   "display_name": "cambridge-spark",
   "language": "python",
   "name": "python3"
  },
  "language_info": {
   "codemirror_mode": {
    "name": "ipython",
    "version": 3
   },
   "file_extension": ".py",
   "mimetype": "text/x-python",
   "name": "python",
   "nbconvert_exporter": "python",
   "pygments_lexer": "ipython3",
   "version": "3.10.13"
  }
 },
 "nbformat": 4,
 "nbformat_minor": 2
}
