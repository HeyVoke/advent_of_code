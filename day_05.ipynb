{
 "cells": [
  {
   "cell_type": "code",
   "execution_count": 42,
   "metadata": {},
   "outputs": [],
   "source": [
    "import re\n",
    "import numpy as np"
   ]
  },
  {
   "cell_type": "code",
   "execution_count": 43,
   "metadata": {},
   "outputs": [],
   "source": [
    "# open the txt file (practise data)\n",
    "file = open('input_data/practise.txt') \n",
    "arr = [line.strip() for line in file.readlines()]\n",
    "file.close()"
   ]
  },
  {
   "cell_type": "code",
   "execution_count": 44,
   "metadata": {},
   "outputs": [],
   "source": [
    "# open the txt file and strip newline\n",
    "file = open('input_data/day_05_input.txt') \n",
    "arr = [line.strip() for line in file.readlines()]\n",
    "file.close()"
   ]
  },
  {
   "cell_type": "code",
   "execution_count": 45,
   "metadata": {},
   "outputs": [],
   "source": [
    "# Initialize an empty list to store sublists\n",
    "result_list = []\n",
    "current_sublist = []\n",
    "\n",
    "# Iterate through the input list\n",
    "for item in arr:\n",
    "    if item == '':\n",
    "        # If an empty string is found, append the current sublist to the result list\n",
    "        if current_sublist:\n",
    "            result_list.append(current_sublist)\n",
    "            current_sublist = []  # Reset the current sublist\n",
    "    else:\n",
    "        # If a non-empty string is found, add it to the current sublist\n",
    "        current_sublist.append(item)\n",
    "\n",
    "# Append the last sublist if the input list ends with a non-empty string\n",
    "if current_sublist:\n",
    "    result_list.append(current_sublist)\n",
    "\n",
    "arr = result_list"
   ]
  },
  {
   "cell_type": "code",
   "execution_count": 46,
   "metadata": {},
   "outputs": [
    {
     "name": "stdout",
     "output_type": "stream",
     "text": [
      "done!\n"
     ]
    }
   ],
   "source": [
    "seeds = [int(x) for x in arr[0][0].split(': ')[1].split(' ')]\n",
    "seed_to_soil = [list(map(int, x.split())) for x in arr[1][1:]]\n",
    "soil_to_fertilizer = [list(map(int, x.split())) for x in arr[2][1:]]\n",
    "fertilizer_to_water = [list(map(int, x.split())) for x in arr[3][1:]]\n",
    "water_to_light = [list(map(int, x.split())) for x in arr[4][1:]]\n",
    "light_to_temp = [list(map(int, x.split())) for x in arr[5][1:]]\n",
    "temp_to_humidity = [list(map(int, x.split())) for x in arr[6][1:]]\n",
    "humidity_to_location = [list(map(int, x.split())) for x in arr[7][1:]]\n",
    "\n",
    "def print_maps():\n",
    "    print(f'seeds = {seeds}')\n",
    "    print(f'seed_to_soil = {seed_to_soil}')\n",
    "    print(f'soil_to_fertilizer = {soil_to_fertilizer}')\n",
    "    print(f'fertilizer_to_water = {fertilizer_to_water}')\n",
    "    print(f'water_to_light = {water_to_light}')\n",
    "    print(f'light_to_temp = {light_to_temp}')\n",
    "    print(f'temp_to_humidity = {temp_to_humidity}')\n",
    "    print(f'humidity_to_location = {humidity_to_location}')\n",
    "\n",
    "format_input(arr)"
   ]
  },
  {
   "cell_type": "code",
   "execution_count": 47,
   "metadata": {},
   "outputs": [],
   "source": [
    "def get_map_out(input, map_arr):\n",
    "\n",
    "    for mapper in map_arr:\n",
    "        start = mapper[1]\n",
    "        out_start = mapper[0]\n",
    "        steps = mapper[2]\n",
    "\n",
    "        if input >= start and input <= (start + steps):\n",
    "            return out_start + (input - start)\n",
    "\n",
    "    return input"
   ]
  },
  {
   "cell_type": "code",
   "execution_count": 48,
   "metadata": {},
   "outputs": [
    {
     "data": {
      "text/plain": [
       "240320250"
      ]
     },
     "execution_count": 48,
     "metadata": {},
     "output_type": "execute_result"
    }
   ],
   "source": [
    "loc = np.inf\n",
    "\n",
    "for seed in seeds:\n",
    "    x = seed\n",
    "    x = get_map_out(x, seed_to_soil)\n",
    "    x = get_map_out(x, soil_to_fertilizer)\n",
    "    x = get_map_out(x, fertilizer_to_water)\n",
    "    x = get_map_out(x, water_to_light)\n",
    "    x = get_map_out(x, light_to_temp)\n",
    "    x = get_map_out(x, temp_to_humidity)\n",
    "    x = get_map_out(x, humidity_to_location)\n",
    "\n",
    "    if x < loc:\n",
    "        loc = x\n",
    "\n",
    "loc"
   ]
  },
  {
   "cell_type": "code",
   "execution_count": 49,
   "metadata": {},
   "outputs": [
    {
     "ename": "KeyboardInterrupt",
     "evalue": "",
     "output_type": "error",
     "traceback": [
      "\u001b[0;31m---------------------------------------------------------------------------\u001b[0m",
      "\u001b[0;31mKeyboardInterrupt\u001b[0m                         Traceback (most recent call last)",
      "\u001b[1;32m/Users/vokeogueh/Documents/5-datascience/advent_of_code/day_05.ipynb Cell 8\u001b[0m line \u001b[0;36m1\n\u001b[1;32m     <a href='vscode-notebook-cell:/Users/vokeogueh/Documents/5-datascience/advent_of_code/day_05.ipynb#X15sZmlsZQ%3D%3D?line=13'>14</a>\u001b[0m x \u001b[39m=\u001b[39m get_map_out(x, water_to_light)\n\u001b[1;32m     <a href='vscode-notebook-cell:/Users/vokeogueh/Documents/5-datascience/advent_of_code/day_05.ipynb#X15sZmlsZQ%3D%3D?line=14'>15</a>\u001b[0m x \u001b[39m=\u001b[39m get_map_out(x, light_to_temp)\n\u001b[0;32m---> <a href='vscode-notebook-cell:/Users/vokeogueh/Documents/5-datascience/advent_of_code/day_05.ipynb#X15sZmlsZQ%3D%3D?line=15'>16</a>\u001b[0m x \u001b[39m=\u001b[39m get_map_out(x, temp_to_humidity)\n\u001b[1;32m     <a href='vscode-notebook-cell:/Users/vokeogueh/Documents/5-datascience/advent_of_code/day_05.ipynb#X15sZmlsZQ%3D%3D?line=16'>17</a>\u001b[0m x \u001b[39m=\u001b[39m get_map_out(x, humidity_to_location)\n\u001b[1;32m     <a href='vscode-notebook-cell:/Users/vokeogueh/Documents/5-datascience/advent_of_code/day_05.ipynb#X15sZmlsZQ%3D%3D?line=18'>19</a>\u001b[0m \u001b[39mif\u001b[39;00m x \u001b[39m<\u001b[39m loc:\n",
      "\u001b[1;32m/Users/vokeogueh/Documents/5-datascience/advent_of_code/day_05.ipynb Cell 8\u001b[0m line \u001b[0;36m8\n\u001b[1;32m      <a href='vscode-notebook-cell:/Users/vokeogueh/Documents/5-datascience/advent_of_code/day_05.ipynb#X15sZmlsZQ%3D%3D?line=4'>5</a>\u001b[0m     out_start \u001b[39m=\u001b[39m mapper[\u001b[39m0\u001b[39m]\n\u001b[1;32m      <a href='vscode-notebook-cell:/Users/vokeogueh/Documents/5-datascience/advent_of_code/day_05.ipynb#X15sZmlsZQ%3D%3D?line=5'>6</a>\u001b[0m     steps \u001b[39m=\u001b[39m mapper[\u001b[39m2\u001b[39m]\n\u001b[0;32m----> <a href='vscode-notebook-cell:/Users/vokeogueh/Documents/5-datascience/advent_of_code/day_05.ipynb#X15sZmlsZQ%3D%3D?line=7'>8</a>\u001b[0m     \u001b[39mif\u001b[39;00m \u001b[39minput\u001b[39m \u001b[39m>\u001b[39m\u001b[39m=\u001b[39m start \u001b[39mand\u001b[39;00m \u001b[39minput\u001b[39m \u001b[39m<\u001b[39m\u001b[39m=\u001b[39m (start \u001b[39m+\u001b[39m steps):\n\u001b[1;32m      <a href='vscode-notebook-cell:/Users/vokeogueh/Documents/5-datascience/advent_of_code/day_05.ipynb#X15sZmlsZQ%3D%3D?line=8'>9</a>\u001b[0m         \u001b[39mreturn\u001b[39;00m out_start \u001b[39m+\u001b[39m (\u001b[39minput\u001b[39m \u001b[39m-\u001b[39m start)\n\u001b[1;32m     <a href='vscode-notebook-cell:/Users/vokeogueh/Documents/5-datascience/advent_of_code/day_05.ipynb#X15sZmlsZQ%3D%3D?line=10'>11</a>\u001b[0m \u001b[39mreturn\u001b[39;00m \u001b[39minput\u001b[39m\n",
      "\u001b[0;31mKeyboardInterrupt\u001b[0m: "
     ]
    }
   ],
   "source": [
    "seed_ranges = np.array(seeds).reshape([-1, 2])\n",
    "\n",
    "loc = np.inf\n",
    "\n",
    "for seed_range in seed_ranges:\n",
    "    start = seed_range[0]\n",
    "    length = seed_range[1]\n",
    "\n",
    "    for seed in range(start, start + length):\n",
    "        x = seed\n",
    "        x = get_map_out(x, seed_to_soil)\n",
    "        x = get_map_out(x, soil_to_fertilizer)\n",
    "        x = get_map_out(x, fertilizer_to_water)\n",
    "        x = get_map_out(x, water_to_light)\n",
    "        x = get_map_out(x, light_to_temp)\n",
    "        x = get_map_out(x, temp_to_humidity)\n",
    "        x = get_map_out(x, humidity_to_location)\n",
    "\n",
    "        if x < loc:\n",
    "            loc = x\n",
    "\n",
    "loc"
   ]
  },
  {
   "cell_type": "code",
   "execution_count": 50,
   "metadata": {},
   "outputs": [
    {
     "name": "stdout",
     "output_type": "stream",
     "text": [
      "28580589\n"
     ]
    }
   ],
   "source": [
    "file = open('input_data/day_05_input.txt').read().strip().split(\"\\n\\n\")\n",
    "\n",
    "inputs = [int(x) for x in file[0].replace(\"seeds: \", \"\").split(\" \")]\n",
    "\n",
    "# Seeds format: [(start, end), ...]\n",
    "seeds = [(inputs[i], inputs[i] + inputs[i + 1]) for i in range(0, len(inputs), 2)]\n",
    "\n",
    "# Map format: [[destination_range_start, source_range_start, range_length], ...]\n",
    "maps = [\n",
    "    [[int(y) for y in x.split(\" \")] for x in file[i].splitlines()[1::]]\n",
    "    for i in range(1, 8)\n",
    "]\n",
    "\n",
    "\n",
    "def remap(start: int, end: int, new_seeds: list[tuple[int]], m: list[int]) -> int:\n",
    "    for destination_range_start, source_range_start, range_length in m:\n",
    "        # Check if the ranges overlap\n",
    "        overlap_start = max(start, source_range_start)\n",
    "        overlap_end = min(end, source_range_start + range_length)\n",
    "\n",
    "        if overlap_start < overlap_end:\n",
    "            new_seeds.append(\n",
    "                (\n",
    "                    destination_range_start + (overlap_start - source_range_start),\n",
    "                    destination_range_start + (overlap_end - source_range_start),\n",
    "                )\n",
    "            )\n",
    "\n",
    "            if start < overlap_start:\n",
    "                seeds.append((start, overlap_start))\n",
    "\n",
    "            if overlap_end < end:\n",
    "                seeds.append((overlap_end, end))\n",
    "\n",
    "            break\n",
    "    else:\n",
    "        # If no overlap, just add the original range to the new seeds\n",
    "        new_seeds.append((start, end))\n",
    "\n",
    "\n",
    "r = float(\"inf\")\n",
    "\n",
    "for m in maps:\n",
    "    new_seeds = []\n",
    "    while len(seeds) > 0:\n",
    "        start, end = seeds.pop()\n",
    "        remap(start, end, new_seeds, m)\n",
    "\n",
    "    seeds = new_seeds\n",
    "\n",
    "print(min(seeds)[0])"
   ]
  }
 ],
 "metadata": {
  "kernelspec": {
   "display_name": "cambridge-spark",
   "language": "python",
   "name": "python3"
  },
  "language_info": {
   "codemirror_mode": {
    "name": "ipython",
    "version": 3
   },
   "file_extension": ".py",
   "mimetype": "text/x-python",
   "name": "python",
   "nbconvert_exporter": "python",
   "pygments_lexer": "ipython3",
   "version": "3.10.13"
  }
 },
 "nbformat": 4,
 "nbformat_minor": 2
}
