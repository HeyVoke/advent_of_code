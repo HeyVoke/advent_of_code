{
 "cells": [
  {
   "cell_type": "code",
   "execution_count": 1,
   "metadata": {},
   "outputs": [],
   "source": [
    "import re\n",
    "import numpy as np"
   ]
  },
  {
   "cell_type": "code",
   "execution_count": 39,
   "metadata": {},
   "outputs": [],
   "source": [
    "# open the txt file and strip newline\n",
    "file = open('input_data/day_06_input.txt') \n",
    "arr = [line.strip() for line in file.readlines()]\n",
    "file.close()"
   ]
  },
  {
   "cell_type": "code",
   "execution_count": 25,
   "metadata": {},
   "outputs": [],
   "source": [
    "# open the txt file (practise data)\n",
    "file = open('input_data/practise.txt') \n",
    "arr = [line.strip() for line in file.readlines()]\n",
    "file.close()"
   ]
  },
  {
   "cell_type": "code",
   "execution_count": 36,
   "metadata": {},
   "outputs": [
    {
     "data": {
      "text/plain": [
       "288"
      ]
     },
     "execution_count": 36,
     "metadata": {},
     "output_type": "execute_result"
    }
   ],
   "source": [
    "times = [int(x) for x in arr[0].split(':')[1].strip().split()]\n",
    "distances = [int(x) for x in arr[1].split(':')[1].strip().split()]\n",
    "\n",
    "wins = []\n",
    "\n",
    "for i in range(len(times)):\n",
    "    win_count = 0\n",
    "    total_seconds = times[i]\n",
    "    goal_distance = distances[i]\n",
    "\n",
    "    for x in [x for x in range(total_seconds // 2 + 1)]:\n",
    "        y = total_seconds - x\n",
    "        dist = x * y\n",
    "        if dist > goal_distance:\n",
    "            if x == y:\n",
    "                win_count += 1\n",
    "            else:\n",
    "                win_count += 2\n",
    "    \n",
    "    wins.append(win_count)\n",
    "\n",
    "wins = np.array(wins)\n",
    "np.prod(wins)"
   ]
  },
  {
   "cell_type": "code",
   "execution_count": 40,
   "metadata": {},
   "outputs": [
    {
     "data": {
      "text/plain": [
       "45128024"
      ]
     },
     "execution_count": 40,
     "metadata": {},
     "output_type": "execute_result"
    }
   ],
   "source": [
    "times = int(''.join(arr[0].split(':')[1].strip().split()))\n",
    "distances = int(''.join(arr[1].split(':')[1].strip().split()))\n",
    "\n",
    "times, distances\n",
    "\n",
    "win_count = 0\n",
    "total_seconds = times\n",
    "goal_distance = distances\n",
    "\n",
    "for x in [x for x in range(total_seconds // 2 + 1)]:\n",
    "    y = total_seconds - x\n",
    "    dist = x * y\n",
    "    if dist > goal_distance:\n",
    "        if x == y:\n",
    "            win_count += 1\n",
    "        else:\n",
    "            win_count += 2\n",
    "\n",
    "win_count"
   ]
  }
 ],
 "metadata": {
  "kernelspec": {
   "display_name": "cambridge-spark",
   "language": "python",
   "name": "python3"
  },
  "language_info": {
   "codemirror_mode": {
    "name": "ipython",
    "version": 3
   },
   "file_extension": ".py",
   "mimetype": "text/x-python",
   "name": "python",
   "nbconvert_exporter": "python",
   "pygments_lexer": "ipython3",
   "version": "3.10.13"
  }
 },
 "nbformat": 4,
 "nbformat_minor": 2
}
